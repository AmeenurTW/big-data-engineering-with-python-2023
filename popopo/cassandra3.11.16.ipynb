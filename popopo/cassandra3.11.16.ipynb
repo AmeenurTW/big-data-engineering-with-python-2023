{
 "cells": [
  {
   "cell_type": "code",
   "execution_count": 5,
   "metadata": {},
   "outputs": [],
   "source": [
    "import pandas as pd\n",
    "import cassandra\n",
    "import re\n",
    "import os\n",
    "import glob\n",
    "import numpy as np\n",
    "import json\n",
    "import csv\n",
    "import matplotlib.pyplot as plt\n",
    "from cassandra.cluster import Cluster\n",
    "import requests\n"
   ]
  },
  {
   "cell_type": "code",
   "execution_count": 6,
   "metadata": {},
   "outputs": [
    {
     "name": "stdout",
     "output_type": "stream",
     "text": [
      "Requirement already satisfied: cassandra-driver in c:\\users\\asus\\anaconda3\\lib\\site-packages (3.29.0)\n",
      "Requirement already satisfied: geomet<0.3,>=0.1 in c:\\users\\asus\\anaconda3\\lib\\site-packages (from cassandra-driver) (0.2.1.post1)\n",
      "Requirement already satisfied: click in c:\\users\\asus\\anaconda3\\lib\\site-packages (from geomet<0.3,>=0.1->cassandra-driver) (8.0.4)\n",
      "Requirement already satisfied: six in c:\\users\\asus\\appdata\\roaming\\python\\python311\\site-packages (from geomet<0.3,>=0.1->cassandra-driver) (1.16.0)\n",
      "Requirement already satisfied: colorama in c:\\users\\asus\\appdata\\roaming\\python\\python311\\site-packages (from click->geomet<0.3,>=0.1->cassandra-driver) (0.4.6)\n"
     ]
    }
   ],
   "source": [
    "!pip install cassandra-driver\n",
    "\n",
    "\n"
   ]
  },
  {
   "cell_type": "code",
   "execution_count": 24,
   "metadata": {},
   "outputs": [],
   "source": [
    "cluster = Cluster(['127.0.0.1']) \n",
    "session = cluster.connect()"
   ]
  },
  {
   "cell_type": "code",
   "execution_count": 8,
   "metadata": {},
   "outputs": [],
   "source": [
    "keyspace_name = \"data_quran\"  \n",
    "\n",
    "\n",
    "session.execute(\"CREATE KEYSPACE IF NOT EXISTS data_quran WITH replication = {'class': 'SimpleStrategy', 'replication_factor': '1'}\")\n",
    "\n",
    "session.set_keyspace('data_quran')\n"
   ]
  },
  {
   "cell_type": "code",
   "execution_count": 9,
   "metadata": {},
   "outputs": [],
   "source": [
    "\n",
    "session.set_keyspace('data_quran')"
   ]
  },
  {
   "cell_type": "code",
   "execution_count": 10,
   "metadata": {},
   "outputs": [
    {
     "name": "stdout",
     "output_type": "stream",
     "text": [
      "Table 'arabic' created successfully!\n"
     ]
    }
   ],
   "source": [
    "create_table_query = \"\"\"\n",
    "    CREATE TABLE IF NOT EXISTS arabic (\n",
    "        verse_number int PRIMARY KEY,\n",
    "        surah int,\n",
    "        ayah_id int,\n",
    "        text varchar\n",
    "    );\n",
    "\"\"\"\n",
    "\n",
    "try:\n",
    "    session.execute(create_table_query)\n",
    "    print(\"Table 'arabic' created successfully!\")\n",
    "except Exception as e:\n",
    "    print(\"Error:\", e)"
   ]
  },
  {
   "cell_type": "code",
   "execution_count": 11,
   "metadata": {},
   "outputs": [
    {
     "name": "stdout",
     "output_type": "stream",
     "text": [
      "Table 'Tafseer' created successfully!\n"
     ]
    }
   ],
   "source": [
    "create_table_query = \"\"\"\n",
    "    CREATE TABLE IF NOT EXISTS Tafseer (\n",
    "        Name varchar,\n",
    "        Surah int,\n",
    "        Ayat int,\n",
    "        Verse text,\n",
    "        Tafseer text,\n",
    "        PRIMARY KEY (Name, Surah, Ayat)\n",
    "    );\n",
    "\"\"\"\n",
    "\n",
    "try:\n",
    "    session.execute(create_table_query)\n",
    "    print(\"Table 'Tafseer' created successfully!\")\n",
    "except Exception as e:\n",
    "    print(\"Error: Issue creating table\")\n",
    "    print(e)"
   ]
  },
  {
   "cell_type": "code",
   "execution_count": 12,
   "metadata": {},
   "outputs": [
    {
     "name": "stdout",
     "output_type": "stream",
     "text": [
      "Data inserted successfully!\n"
     ]
    }
   ],
   "source": [
    "csv_file = r\"C:\\Users\\ASUS\\Documents\\GitHub\\mogodb\\big-data-engineering-with-python-2023\\popopo\\arabic_ayah.csv\"  # Replace with your CSV file path\n",
    "\n",
    "try:\n",
    "    df = pd.read_csv(csv_file)\n",
    "    \n",
    "    for row in df.itertuples(index=False):\n",
    "        insert_query = session.prepare(\"INSERT INTO arabic (verse_number, surah, ayah_id, text) VALUES (?, ?, ?, ?)\")\n",
    "        session.execute(insert_query, (row.verse_number, row.surah, row.ayah_id, row.text))\n",
    "        \n",
    "    print(\"Data inserted successfully!\")\n",
    "except Exception as e:\n",
    "    print(\"Error: Inserting Rows\")\n",
    "    print(e)"
   ]
  },
  {
   "cell_type": "code",
   "execution_count": 13,
   "metadata": {},
   "outputs": [
    {
     "name": "stdout",
     "output_type": "stream",
     "text": [
      "Data inserted successfully!\n"
     ]
    }
   ],
   "source": [
    "file_path = r\"C:\\Users\\ASUS\\Documents\\GitHub\\mogodb\\big-data-engineering-with-python-2023\\popopo\\Quran_English_with_Tafseer.csv\"\n",
    "\n",
    "try:\n",
    "    with open(file_path, 'r', encoding='utf-8') as file:\n",
    "        next(file) \n",
    "        for line in file:\n",
    "            parts = line.strip().split(',')  \n",
    "            name = parts[0]\n",
    "            surah = int(parts[1])\n",
    "            ayat = int(parts[2])\n",
    "            verse = parts[3]\n",
    "            tafseer = parts[4]\n",
    "            insert_query = session.prepare(\"INSERT INTO Tafseer (Name, Surah, Ayat, Verse, Tafseer) VALUES (?, ?, ?, ?, ?)\")\n",
    "            session.execute(insert_query, (name, surah, ayat, verse, tafseer))\n",
    "    print(\"Data inserted successfully!\")\n",
    "except Exception as e:\n",
    "    print(\"Error: Inserting Data\")\n",
    "    print(e)"
   ]
  },
  {
   "cell_type": "code",
   "execution_count": 38,
   "metadata": {},
   "outputs": [
    {
     "name": "stdout",
     "output_type": "stream",
     "text": [
      "Row(verse_number=4317, ayah_id=45, surah=42, text='وَتَرَىٰهُمۡ يُعۡرَضُونَ عَلَيۡهَا خَٰشِعِينَ مِنَ ٱلذُّلِّ يَنظُرُونَ مِن طَرۡفٍ خَفِيّٖۗ وَقَالَ ٱلَّذِينَ ءَامَنُوٓاْ إِنَّ ٱلۡخَٰسِرِينَ ٱلَّذِينَ خَسِرُوٓاْ أَنفُسَهُمۡ وَأَهۡلِيهِمۡ يَوۡمَ ٱلۡقِيَٰمَةِۗ أَلَآ إِنَّ ٱلظَّـٰلِمِينَ فِي عَذَابٖ مُّقِيمٖ')\n",
      "Row(verse_number=3372, ayah_id=32, surah=29, text='قَالَ إِنَّ فِيهَا لُوطٗاۚ قَالُواْ نَحۡنُ أَعۡلَمُ بِمَن فِيهَاۖ لَنُنَجِّيَنَّهُۥ وَأَهۡلَهُۥٓ إِلَّا ٱمۡرَأَتَهُۥ كَانَتۡ مِنَ ٱلۡغَٰبِرِينَ')\n",
      "Row(verse_number=1584, ayah_id=111, surah=11, text='وَإِنَّ كُلّٗا لَّمَّا لَيُوَفِّيَنَّهُمۡ رَبُّكَ أَعۡمَٰلَهُمۡۚ إِنَّهُۥ بِمَا يَعۡمَلُونَ خَبِيرٞ')\n",
      "Row(verse_number=4830, ayah_id=46, surah=53, text='مِن نُّطۡفَةٍ إِذَا تُمۡنَىٰ')\n",
      "Row(verse_number=2731, ayah_id=58, surah=23, text='وَٱلَّذِينَ هُم بِـَٔايَٰتِ رَبِّهِمۡ يُؤۡمِنُونَ')\n",
      "Row(verse_number=5056, ayah_id=77, surah=56, text='إِنَّهُۥ لَقُرۡءَانٞ كَرِيمٞ')\n",
      "Row(verse_number=2713, ayah_id=40, surah=23, text='قَالَ عَمَّا قَلِيلٖ لَّيُصۡبِحُنَّ نَٰدِمِينَ')\n",
      "Row(verse_number=769, ayah_id=100, surah=5, text='قُل لَّا يَسۡتَوِي ٱلۡخَبِيثُ وَٱلطَّيِّبُ وَلَوۡ أَعۡجَبَكَ كَثۡرَةُ ٱلۡخَبِيثِۚ فَٱتَّقُواْ ٱللَّهَ يَـٰٓأُوْلِي ٱلۡأَلۡبَٰبِ لَعَلَّكُمۡ تُفۡلِحُونَ')\n",
      "Row(verse_number=1863, ayah_id=61, surah=15, text='فَلَمَّا جَآءَ ءَالَ لُوطٍ ٱلۡمُرۡسَلُونَ')\n",
      "Row(verse_number=2453, ayah_id=105, surah=20, text='وَيَسۡـَٔلُونَكَ عَنِ ٱلۡجِبَالِ فَقُلۡ يَنسِفُهَا رَبِّي نَسۡفٗا')\n",
      "Row(verse_number=2302, ayah_id=52, surah=19, text='وَنَٰدَيۡنَٰهُ مِن جَانِبِ ٱلطُّورِ ٱلۡأَيۡمَنِ وَقَرَّبۡنَٰهُ نَجِيّٗا')\n",
      "Row(verse_number=4120, ayah_id=62, surah=39, text='ٱللَّهُ خَٰلِقُ كُلِّ شَيۡءٖۖ وَهُوَ عَلَىٰ كُلِّ شَيۡءٖ وَكِيلٞ')\n",
      "Row(verse_number=5801, ayah_id=1, surah=81, text='إِذَا ٱلشَّمۡسُ كُوِّرَتۡ')\n",
      "Row(verse_number=3733, ayah_id=28, surah=36, text='۞وَمَآ أَنزَلۡنَا عَلَىٰ قَوۡمِهِۦ مِنۢ بَعۡدِهِۦ مِن جُندٖ مِّنَ ٱلسَّمَآءِ وَمَا كُنَّا مُنزِلِينَ')\n",
      "Row(verse_number=1765, ayah_id=15, surah=14, text='وَٱسۡتَفۡتَحُواْ وَخَابَ كُلُّ جَبَّارٍ عَنِيدٖ')\n",
      "Row(verse_number=4822, ayah_id=38, surah=53, text='أَلَّا تَزِرُ وَازِرَةٞ وِزۡرَ أُخۡرَىٰ')\n",
      "Row(verse_number=4650, ayah_id=20, surah=50, text='وَنُفِخَ فِي ٱلصُّورِۚ ذَٰلِكَ يَوۡمُ ٱلۡوَعِيدِ')\n",
      "Row(verse_number=1580, ayah_id=107, surah=11, text='خَٰلِدِينَ فِيهَا مَا دَامَتِ ٱلسَّمَٰوَٰتُ وَٱلۡأَرۡضُ إِلَّا مَا شَآءَ رَبُّكَۚ إِنَّ رَبَّكَ فَعَّالٞ لِّمَا يُرِيدُ')\n",
      "Row(verse_number=2062, ayah_id=33, surah=17, text='وَلَا تَقۡتُلُواْ ٱلنَّفۡسَ ٱلَّتِي حَرَّمَ ٱللَّهُ إِلَّا بِٱلۡحَقِّۗ وَمَن قُتِلَ مَظۡلُومٗا فَقَدۡ جَعَلۡنَا لِوَلِيِّهِۦ سُلۡطَٰنٗا فَلَا يُسۡرِف فِّي ٱلۡقَتۡلِۖ إِنَّهُۥ كَانَ مَنصُورٗا')\n",
      "Row(verse_number=4701, ayah_id=26, surah=51, text='فَرَاغَ إِلَىٰٓ أَهۡلِهِۦ فَجَآءَ بِعِجۡلٖ سَمِينٖ')\n",
      "Row(verse_number=1199, ayah_id=39, surah=8, text='وَقَٰتِلُوهُمۡ حَتَّىٰ لَا تَكُونَ فِتۡنَةٞ وَيَكُونَ ٱلدِّينُ كُلُّهُۥ لِلَّهِۚ فَإِنِ ٱنتَهَوۡاْ فَإِنَّ ٱللَّهَ بِمَا يَعۡمَلُونَ بَصِيرٞ')\n",
      "Row(verse_number=3939, ayah_id=151, surah=37, text='أَلَآ إِنَّهُم مِّنۡ إِفۡكِهِمۡ لَيَقُولُونَ')\n",
      "Row(verse_number=23, ayah_id=16, surah=2, text='أُوْلَـٰٓئِكَ ٱلَّذِينَ ٱشۡتَرَوُاْ ٱلضَّلَٰلَةَ بِٱلۡهُدَىٰ فَمَا رَبِحَت تِّجَٰرَتُهُمۡ وَمَا كَانُواْ مُهۡتَدِينَ')\n",
      "Row(verse_number=5900, ayah_id=16, surah=84, text='فَلَآ أُقۡسِمُ بِٱلشَّفَقِ')\n",
      "Row(verse_number=114, ayah_id=107, surah=2, text='أَلَمۡ تَعۡلَمۡ أَنَّ ٱللَّهَ لَهُۥ مُلۡكُ ٱلسَّمَٰوَٰتِ وَٱلۡأَرۡضِۗ وَمَا لَكُم مِّن دُونِ ٱللَّهِ مِن وَلِيّٖ وَلَا نَصِيرٍ')\n",
      "Row(verse_number=1548, ayah_id=75, surah=11, text='إِنَّ إِبۡرَٰهِيمَ لَحَلِيمٌ أَوَّـٰهٞ مُّنِيبٞ')\n",
      "Row(verse_number=3246, ayah_id=87, surah=27, text='وَيَوۡمَ يُنفَخُ فِي ٱلصُّورِ فَفَزِعَ مَن فِي ٱلسَّمَٰوَٰتِ وَمَن فِي ٱلۡأَرۡضِ إِلَّا مَن شَآءَ ٱللَّهُۚ وَكُلٌّ أَتَوۡهُ دَٰخِرِينَ')\n",
      "Row(verse_number=2744, ayah_id=71, surah=23, text='وَلَوِ ٱتَّبَعَ ٱلۡحَقُّ أَهۡوَآءَهُمۡ لَفَسَدَتِ ٱلسَّمَٰوَٰتُ وَٱلۡأَرۡضُ وَمَن فِيهِنَّۚ بَلۡ أَتَيۡنَٰهُم بِذِكۡرِهِمۡ فَهُمۡ عَن ذِكۡرِهِم مُّعۡرِضُونَ')\n",
      "Row(verse_number=5679, ayah_id=7, surah=78, text='وَٱلۡجِبَالَ أَوۡتَادٗا')\n",
      "Row(verse_number=5582, ayah_id=31, surah=75, text='فَلَا صَدَّقَ وَلَا صَلَّىٰ')\n",
      "Row(verse_number=660, ayah_id=167, surah=4, text='إِنَّ ٱلَّذِينَ كَفَرُواْ وَصَدُّواْ عَن سَبِيلِ ٱللَّهِ قَدۡ ضَلُّواْ ضَلَٰلَۢا بَعِيدًا')\n",
      "Row(verse_number=4975, ayah_id=74, surah=55, text='لَمۡ يَطۡمِثۡهُنَّ إِنسٞ قَبۡلَهُمۡ وَلَا جَآنّٞ')\n",
      "Row(verse_number=893, ayah_id=104, surah=6, text='قَدۡ جَآءَكُم بَصَآئِرُ مِن رَّبِّكُمۡۖ فَمَنۡ أَبۡصَرَ فَلِنَفۡسِهِۦۖ وَمَنۡ عَمِيَ فَعَلَيۡهَاۚ وَمَآ أَنَا۠ عَلَيۡكُم بِحَفِيظٖ')\n",
      "Row(verse_number=4004, ayah_id=34, surah=38, text='وَلَقَدۡ فَتَنَّا سُلَيۡمَٰنَ وَأَلۡقَيۡنَا عَلَىٰ كُرۡسِيِّهِۦ جَسَدٗا ثُمَّ أَنَابَ')\n",
      "Row(verse_number=3254, ayah_id=2, surah=28, text='تِلۡكَ ءَايَٰتُ ٱلۡكِتَٰبِ ٱلۡمُبِينِ')\n",
      "Row(verse_number=4877, ayah_id=31, surah=54, text='إِنَّآ أَرۡسَلۡنَا عَلَيۡهِمۡ صَيۡحَةٗ وَٰحِدَةٗ فَكَانُواْ كَهَشِيمِ ٱلۡمُحۡتَظِرِ')\n",
      "Row(verse_number=1193, ayah_id=33, surah=8, text='وَمَا كَانَ ٱللَّهُ لِيُعَذِّبَهُمۡ وَأَنتَ فِيهِمۡۚ وَمَا كَانَ ٱللَّهُ مُعَذِّبَهُمۡ وَهُمۡ يَسۡتَغۡفِرُونَ')\n",
      "Row(verse_number=53, ayah_id=46, surah=2, text='ٱلَّذِينَ يَظُنُّونَ أَنَّهُم مُّلَٰقُواْ رَبِّهِمۡ وَأَنَّهُمۡ إِلَيۡهِ رَٰجِعُونَ')\n",
      "Row(verse_number=987, ayah_id=33, surah=7, text='قُلۡ إِنَّمَا حَرَّمَ رَبِّيَ ٱلۡفَوَٰحِشَ مَا ظَهَرَ مِنۡهَا وَمَا بَطَنَ وَٱلۡإِثۡمَ وَٱلۡبَغۡيَ بِغَيۡرِ ٱلۡحَقِّ وَأَن تُشۡرِكُواْ بِٱللَّهِ مَا لَمۡ يُنَزِّلۡ بِهِۦ سُلۡطَٰنٗا وَأَن تَقُولُواْ عَلَى ٱللَّهِ مَا لَا تَعۡلَمُونَ')\n",
      "Row(verse_number=3305, ayah_id=53, surah=28, text='وَإِذَا يُتۡلَىٰ عَلَيۡهِمۡ قَالُوٓاْ ءَامَنَّا بِهِۦٓ إِنَّهُ ٱلۡحَقُّ مِن رَّبِّنَآ إِنَّا كُنَّا مِن قَبۡلِهِۦ مُسۡلِمِينَ')\n",
      "Row(verse_number=2747, ayah_id=74, surah=23, text='وَإِنَّ ٱلَّذِينَ لَا يُؤۡمِنُونَ بِٱلۡأٓخِرَةِ عَنِ ٱلصِّرَٰطِ لَنَٰكِبُونَ')\n",
      "Row(verse_number=1940, ayah_id=39, surah=16, text='لِيُبَيِّنَ لَهُمُ ٱلَّذِي يَخۡتَلِفُونَ فِيهِ وَلِيَعۡلَمَ ٱلَّذِينَ كَفَرُوٓاْ أَنَّهُمۡ كَانُواْ كَٰذِبِينَ')\n",
      "Row(verse_number=3655, ayah_id=49, surah=34, text='قُلۡ جَآءَ ٱلۡحَقُّ وَمَا يُبۡدِئُ ٱلۡبَٰطِلُ وَمَا يُعِيدُ')\n",
      "Row(verse_number=3075, ayah_id=143, surah=26, text='إِنِّي لَكُمۡ رَسُولٌ أَمِينٞ')\n",
      "Row(verse_number=878, ayah_id=89, surah=6, text='أُوْلَـٰٓئِكَ ٱلَّذِينَ ءَاتَيۡنَٰهُمُ ٱلۡكِتَٰبَ وَٱلۡحُكۡمَ وَٱلنُّبُوَّةَۚ فَإِن يَكۡفُرۡ بِهَا هَـٰٓؤُلَآءِ فَقَدۡ وَكَّلۡنَا بِهَا قَوۡمٗا لَّيۡسُواْ بِهَا بِكَٰفِرِينَ')\n",
      "Row(verse_number=110, ayah_id=103, surah=2, text='وَلَوۡ أَنَّهُمۡ ءَامَنُواْ وَٱتَّقَوۡاْ لَمَثُوبَةٞ مِّنۡ عِندِ ٱللَّهِ خَيۡرٞۚ لَّوۡ كَانُواْ يَعۡلَمُونَ')\n",
      "Row(verse_number=91, ayah_id=84, surah=2, text='وَإِذۡ أَخَذۡنَا مِيثَٰقَكُمۡ لَا تَسۡفِكُونَ دِمَآءَكُمۡ وَلَا تُخۡرِجُونَ أَنفُسَكُم مِّن دِيَٰرِكُمۡ ثُمَّ أَقۡرَرۡتُمۡ وَأَنتُمۡ تَشۡهَدُونَ')\n",
      "Row(verse_number=128, ayah_id=121, surah=2, text='ٱلَّذِينَ ءَاتَيۡنَٰهُمُ ٱلۡكِتَٰبَ يَتۡلُونَهُۥ حَقَّ تِلَاوَتِهِۦٓ أُوْلَـٰٓئِكَ يُؤۡمِنُونَ بِهِۦۗ وَمَن يَكۡفُرۡ بِهِۦ فَأُوْلَـٰٓئِكَ هُمُ ٱلۡخَٰسِرُونَ')\n",
      "Row(verse_number=5557, ayah_id=6, surah=75, text='يَسۡـَٔلُ أَيَّانَ يَوۡمُ ٱلۡقِيَٰمَةِ')\n",
      "Row(verse_number=2524, ayah_id=41, surah=21, text='وَلَقَدِ ٱسۡتُهۡزِئَ بِرُسُلٖ مِّن قَبۡلِكَ فَحَاقَ بِٱلَّذِينَ سَخِرُواْ مِنۡهُم مَّا كَانُواْ بِهِۦ يَسۡتَهۡزِءُونَ')\n",
      "Row(verse_number=2850, ayah_id=59, surah=24, text='وَإِذَا بَلَغَ ٱلۡأَطۡفَٰلُ مِنكُمُ ٱلۡحُلُمَ فَلۡيَسۡتَـٔۡذِنُواْ كَمَا ٱسۡتَـٔۡذَنَ ٱلَّذِينَ مِن قَبۡلِهِمۡۚ كَذَٰلِكَ يُبَيِّنُ ٱللَّهُ لَكُمۡ ءَايَٰتِهِۦۗ وَٱللَّهُ عَلِيمٌ حَكِيمٞ')\n",
      "Row(verse_number=363, ayah_id=70, surah=3, text='يَـٰٓأَهۡلَ ٱلۡكِتَٰبِ لِمَ تَكۡفُرُونَ بِـَٔايَٰتِ ٱللَّهِ وَأَنتُمۡ تَشۡهَدُونَ')\n",
      "Row(verse_number=4010, ayah_id=40, surah=38, text='وَإِنَّ لَهُۥ عِندَنَا لَزُلۡفَىٰ وَحُسۡنَ مَـَٔابٖ')\n",
      "Row(verse_number=1425, ayah_id=61, surah=10, text='وَمَا تَكُونُ فِي شَأۡنٖ وَمَا تَتۡلُواْ مِنۡهُ مِن قُرۡءَانٖ وَلَا تَعۡمَلُونَ مِنۡ عَمَلٍ إِلَّا كُنَّا عَلَيۡكُمۡ شُهُودًا إِذۡ تُفِيضُونَ فِيهِۚ وَمَا يَعۡزُبُ عَن رَّبِّكَ مِن مِّثۡقَالِ ذَرَّةٖ فِي ٱلۡأَرۡضِ وَلَا فِي ٱلسَّمَآءِ وَلَآ أَصۡغَرَ مِن ذَٰلِكَ وَلَآ أَكۡبَرَ إِلَّا فِي كِتَٰبٖ مُّبِينٍ')\n",
      "Row(verse_number=251, ayah_id=244, surah=2, text='وَقَٰتِلُواْ فِي سَبِيلِ ٱللَّهِ وَٱعۡلَمُوٓاْ أَنَّ ٱللَّهَ سَمِيعٌ عَلِيمٞ')\n",
      "Row(verse_number=744, ayah_id=75, surah=5, text='مَّا ٱلۡمَسِيحُ ٱبۡنُ مَرۡيَمَ إِلَّا رَسُولٞ قَدۡ خَلَتۡ مِن قَبۡلِهِ ٱلرُّسُلُ وَأُمُّهُۥ صِدِّيقَةٞۖ كَانَا يَأۡكُلَانِ ٱلطَّعَامَۗ ٱنظُرۡ كَيۡفَ نُبَيِّنُ لَهُمُ ٱلۡأٓيَٰتِ ثُمَّ ٱنظُرۡ أَنَّىٰ يُؤۡفَكُونَ')\n",
      "Row(verse_number=5072, ayah_id=93, surah=56, text='فَنُزُلٞ مِّنۡ حَمِيمٖ')\n",
      "Row(verse_number=3315, ayah_id=63, surah=28, text='قَالَ ٱلَّذِينَ حَقَّ عَلَيۡهِمُ ٱلۡقَوۡلُ رَبَّنَا هَـٰٓؤُلَآءِ ٱلَّذِينَ أَغۡوَيۡنَآ أَغۡوَيۡنَٰهُمۡ كَمَا غَوَيۡنَاۖ تَبَرَّأۡنَآ إِلَيۡكَۖ مَا كَانُوٓاْ إِيَّانَا يَعۡبُدُونَ')\n",
      "Row(verse_number=3208, ayah_id=49, surah=27, text='قَالُواْ تَقَاسَمُواْ بِٱللَّهِ لَنُبَيِّتَنَّهُۥ وَأَهۡلَهُۥ ثُمَّ لَنَقُولَنَّ لِوَلِيِّهِۦ مَا شَهِدۡنَا مَهۡلِكَ أَهۡلِهِۦ وَإِنَّا لَصَٰدِقُونَ')\n",
      "Row(verse_number=1052, ayah_id=98, surah=7, text='أَوَأَمِنَ أَهۡلُ ٱلۡقُرَىٰٓ أَن يَأۡتِيَهُم بَأۡسُنَا ضُحٗى وَهُمۡ يَلۡعَبُونَ')\n",
      "Row(verse_number=2492, ayah_id=9, surah=21, text='ثُمَّ صَدَقۡنَٰهُمُ ٱلۡوَعۡدَ فَأَنجَيۡنَٰهُمۡ وَمَن نَّشَآءُ وَأَهۡلَكۡنَا ٱلۡمُسۡرِفِينَ')\n",
      "Row(verse_number=778, ayah_id=109, surah=5, text='۞يَوۡمَ يَجۡمَعُ ٱللَّهُ ٱلرُّسُلَ فَيَقُولُ مَاذَآ أُجِبۡتُمۡۖ قَالُواْ لَا عِلۡمَ لَنَآۖ إِنَّكَ أَنتَ عَلَّـٰمُ ٱلۡغُيُوبِ')\n",
      "Row(verse_number=2074, ayah_id=45, surah=17, text='وَإِذَا قَرَأۡتَ ٱلۡقُرۡءَانَ جَعَلۡنَا بَيۡنَكَ وَبَيۡنَ ٱلَّذِينَ لَا يُؤۡمِنُونَ بِٱلۡأٓخِرَةِ حِجَابٗا مَّسۡتُورٗا')\n",
      "Row(verse_number=4996, ayah_id=17, surah=56, text='يَطُوفُ عَلَيۡهِمۡ وِلۡدَٰنٞ مُّخَلَّدُونَ')\n",
      "Row(verse_number=2901, ayah_id=46, surah=25, text='ثُمَّ قَبَضۡنَٰهُ إِلَيۡنَا قَبۡضٗا يَسِيرٗا')\n",
      "Row(verse_number=5585, ayah_id=34, surah=75, text='أَوۡلَىٰ لَكَ فَأَوۡلَىٰ')\n",
      "Row(verse_number=819, ayah_id=30, surah=6, text='وَلَوۡ تَرَىٰٓ إِذۡ وُقِفُواْ عَلَىٰ رَبِّهِمۡۚ قَالَ أَلَيۡسَ هَٰذَا بِٱلۡحَقِّۚ قَالُواْ بَلَىٰ وَرَبِّنَاۚ قَالَ فَذُوقُواْ ٱلۡعَذَابَ بِمَا كُنتُمۡ تَكۡفُرُونَ')\n",
      "Row(verse_number=6120, ayah_id=14, surah=96, text='أَلَمۡ يَعۡلَم بِأَنَّ ٱللَّهَ يَرَىٰ')\n",
      "Row(verse_number=310, ayah_id=17, surah=3, text='ٱلصَّـٰبِرِينَ وَٱلصَّـٰدِقِينَ وَٱلۡقَٰنِتِينَ وَٱلۡمُنفِقِينَ وَٱلۡمُسۡتَغۡفِرِينَ بِٱلۡأَسۡحَارِ')\n",
      "Row(verse_number=4221, ayah_id=3, surah=41, text='كِتَٰبٞ فُصِّلَتۡ ءَايَٰتُهُۥ قُرۡءَانًا عَرَبِيّٗا لِّقَوۡمٖ يَعۡلَمُونَ')\n",
      "Row(verse_number=3543, ayah_id=10, surah=33, text='إِذۡ جَآءُوكُم مِّن فَوۡقِكُمۡ وَمِنۡ أَسۡفَلَ مِنكُمۡ وَإِذۡ زَاغَتِ ٱلۡأَبۡصَٰرُ وَبَلَغَتِ ٱلۡقُلُوبُ ٱلۡحَنَاجِرَ وَتَظُنُّونَ بِٱللَّهِ ٱلظُّنُونَا۠')\n",
      "Row(verse_number=5799, ayah_id=41, surah=80, text='تَرۡهَقُهَا قَتَرَةٌ')\n",
      "Row(verse_number=849, ayah_id=60, surah=6, text='وَهُوَ ٱلَّذِي يَتَوَفَّىٰكُم بِٱلَّيۡلِ وَيَعۡلَمُ مَا جَرَحۡتُم بِٱلنَّهَارِ ثُمَّ يَبۡعَثُكُمۡ فِيهِ لِيُقۡضَىٰٓ أَجَلٞ مُّسَمّٗىۖ ثُمَّ إِلَيۡهِ مَرۡجِعُكُمۡ ثُمَّ يُنَبِّئُكُم بِمَا كُنتُمۡ تَعۡمَلُونَ')\n",
      "Row(verse_number=4635, ayah_id=5, surah=50, text='بَلۡ كَذَّبُواْ بِٱلۡحَقِّ لَمَّا جَآءَهُمۡ فَهُمۡ فِيٓ أَمۡرٖ مَّرِيجٍ')\n",
      "Row(verse_number=2354, ayah_id=6, surah=20, text='لَهُۥ مَا فِي ٱلسَّمَٰوَٰتِ وَمَا فِي ٱلۡأَرۡضِ وَمَا بَيۡنَهُمَا وَمَا تَحۡتَ ٱلثَّرَىٰ')\n",
      "Row(verse_number=2597, ayah_id=2, surah=22, text='يَوۡمَ تَرَوۡنَهَا تَذۡهَلُ كُلُّ مُرۡضِعَةٍ عَمَّآ أَرۡضَعَتۡ وَتَضَعُ كُلُّ ذَاتِ حَمۡلٍ حَمۡلَهَا وَتَرَى ٱلنَّاسَ سُكَٰرَىٰ وَمَا هُم بِسُكَٰرَىٰ وَلَٰكِنَّ عَذَابَ ٱللَّهِ شَدِيدٞ')\n",
      "Row(verse_number=4630, ayah_id=18, surah=49, text='إِنَّ ٱللَّهَ يَعۡلَمُ غَيۡبَ ٱلسَّمَٰوَٰتِ وَٱلۡأَرۡضِۚ وَٱللَّهُ بَصِيرُۢ بِمَا تَعۡمَلُونَ')\n",
      "Row(verse_number=4727, ayah_id=52, surah=51, text='كَذَٰلِكَ مَآ أَتَى ٱلَّذِينَ مِن قَبۡلِهِم مِّن رَّسُولٍ إِلَّا قَالُواْ سَاحِرٌ أَوۡ مَجۡنُونٌ')\n",
      "Row(verse_number=247, ayah_id=240, surah=2, text='وَٱلَّذِينَ يُتَوَفَّوۡنَ مِنكُمۡ وَيَذَرُونَ أَزۡوَٰجٗا وَصِيَّةٗ لِّأَزۡوَٰجِهِم مَّتَٰعًا إِلَى ٱلۡحَوۡلِ غَيۡرَ إِخۡرَاجٖۚ فَإِنۡ خَرَجۡنَ فَلَا جُنَاحَ عَلَيۡكُمۡ فِي مَا فَعَلۡنَ فِيٓ أَنفُسِهِنَّ مِن مَّعۡرُوفٖۗ وَٱللَّهُ عَزِيزٌ حَكِيمٞ')\n",
      "Row(verse_number=796, ayah_id=7, surah=6, text='وَلَوۡ نَزَّلۡنَا عَلَيۡكَ كِتَٰبٗا فِي قِرۡطَاسٖ فَلَمَسُوهُ بِأَيۡدِيهِمۡ لَقَالَ ٱلَّذِينَ كَفَرُوٓاْ إِنۡ هَٰذَآ إِلَّا سِحۡرٞ مُّبِينٞ')\n",
      "Row(verse_number=1351, ayah_id=116, surah=9, text='إِنَّ ٱللَّهَ لَهُۥ مُلۡكُ ٱلسَّمَٰوَٰتِ وَٱلۡأَرۡضِۖ يُحۡيِۦ وَيُمِيتُۚ وَمَا لَكُم مِّن دُونِ ٱللَّهِ مِن وَلِيّٖ وَلَا نَصِيرٖ')\n",
      "Row(verse_number=919, ayah_id=130, surah=6, text='يَٰمَعۡشَرَ ٱلۡجِنِّ وَٱلۡإِنسِ أَلَمۡ يَأۡتِكُمۡ رُسُلٞ مِّنكُمۡ يَقُصُّونَ عَلَيۡكُمۡ ءَايَٰتِي وَيُنذِرُونَكُمۡ لِقَآءَ يَوۡمِكُمۡ هَٰذَاۚ قَالُواْ شَهِدۡنَا عَلَىٰٓ أَنفُسِنَاۖ وَغَرَّتۡهُمُ ٱلۡحَيَوٰةُ ٱلدُّنۡيَا وَشَهِدُواْ عَلَىٰٓ أَنفُسِهِمۡ أَنَّهُمۡ كَانُواْ كَٰفِرِينَ')\n",
      "Row(verse_number=5546, ayah_id=51, surah=74, text='فَرَّتۡ مِن قَسۡوَرَةِۭ')\n",
      "Row(verse_number=2932, ayah_id=77, surah=25, text='قُلۡ مَا يَعۡبَؤُاْ بِكُمۡ رَبِّي لَوۡلَا دُعَآؤُكُمۡۖ فَقَدۡ كَذَّبۡتُمۡ فَسَوۡفَ يَكُونُ لِزَامَۢا')\n",
      "Row(verse_number=214, ayah_id=207, surah=2, text='وَمِنَ ٱلنَّاسِ مَن يَشۡرِي نَفۡسَهُ ٱبۡتِغَآءَ مَرۡضَاتِ ٱللَّهِۚ وَٱللَّهُ رَءُوفُۢ بِٱلۡعِبَادِ')\n",
      "Row(verse_number=429, ayah_id=136, surah=3, text='أُوْلَـٰٓئِكَ جَزَآؤُهُم مَّغۡفِرَةٞ مِّن رَّبِّهِمۡ وَجَنَّـٰتٞ تَجۡرِي مِن تَحۡتِهَا ٱلۡأَنۡهَٰرُ خَٰلِدِينَ فِيهَاۚ وَنِعۡمَ أَجۡرُ ٱلۡعَٰمِلِينَ')\n",
      "Row(verse_number=2308, ayah_id=58, surah=19, text='أُوْلَـٰٓئِكَ ٱلَّذِينَ أَنۡعَمَ ٱللَّهُ عَلَيۡهِم مِّنَ ٱلنَّبِيِّـۧنَ مِن ذُرِّيَّةِ ءَادَمَ وَمِمَّنۡ حَمَلۡنَا مَعَ نُوحٖ وَمِن ذُرِّيَّةِ إِبۡرَٰهِيمَ وَإِسۡرَـٰٓءِيلَ وَمِمَّنۡ هَدَيۡنَا وَٱجۡتَبَيۡنَآۚ إِذَا تُتۡلَىٰ عَلَيۡهِمۡ ءَايَٰتُ ٱلرَّحۡمَٰنِ خَرُّواْۤ سُجَّدٗاۤ وَبُكِيّٗا۩')\n",
      "Row(verse_number=1505, ayah_id=32, surah=11, text='قَالُواْ يَٰنُوحُ قَدۡ جَٰدَلۡتَنَا فَأَكۡثَرۡتَ جِدَٰلَنَا فَأۡتِنَا بِمَا تَعِدُنَآ إِن كُنتَ مِنَ ٱلصَّـٰدِقِينَ')\n",
      "Row(verse_number=117, ayah_id=110, surah=2, text='وَأَقِيمُواْ ٱلصَّلَوٰةَ وَءَاتُواْ ٱلزَّكَوٰةَۚ وَمَا تُقَدِّمُواْ لِأَنفُسِكُم مِّنۡ خَيۡرٖ تَجِدُوهُ عِندَ ٱللَّهِۗ إِنَّ ٱللَّهَ بِمَا تَعۡمَلُونَ بَصِيرٞ')\n",
      "Row(verse_number=3314, ayah_id=62, surah=28, text='وَيَوۡمَ يُنَادِيهِمۡ فَيَقُولُ أَيۡنَ شُرَكَآءِيَ ٱلَّذِينَ كُنتُمۡ تَزۡعُمُونَ')\n",
      "Row(verse_number=3148, ayah_id=216, surah=26, text='فَإِنۡ عَصَوۡكَ فَقُلۡ إِنِّي بَرِيٓءٞ مِّمَّا تَعۡمَلُونَ')\n",
      "Row(verse_number=4909, ayah_id=8, surah=55, text='أَلَّا تَطۡغَوۡاْ فِي ٱلۡمِيزَانِ')\n",
      "Row(verse_number=2353, ayah_id=5, surah=20, text='ٱلرَّحۡمَٰنُ عَلَى ٱلۡعَرۡشِ ٱسۡتَوَىٰ')\n",
      "Row(verse_number=2613, ayah_id=18, surah=22, text='أَلَمۡ تَرَ أَنَّ ٱللَّهَ يَسۡجُدُۤ لَهُۥۤ مَن فِي ٱلسَّمَٰوَٰتِ وَمَن فِي ٱلۡأَرۡضِ وَٱلشَّمۡسُ وَٱلۡقَمَرُ وَٱلنُّجُومُ وَٱلۡجِبَالُ وَٱلشَّجَرُ وَٱلدَّوَآبُّ وَكَثِيرٞ مِّنَ ٱلنَّاسِۖ وَكَثِيرٌ حَقَّ عَلَيۡهِ ٱلۡعَذَابُۗ وَمَن يُهِنِ ٱللَّهُ فَمَا لَهُۥ مِن مُّكۡرِمٍۚ إِنَّ ٱللَّهَ يَفۡعَلُ مَا يَشَآءُ۩')\n",
      "Row(verse_number=4424, ayah_id=10, surah=44, text='فَٱرۡتَقِبۡ يَوۡمَ تَأۡتِي ٱلسَّمَآءُ بِدُخَانٖ مُّبِينٖ')\n",
      "Row(verse_number=2442, ayah_id=94, surah=20, text='قَالَ يَبۡنَؤُمَّ لَا تَأۡخُذۡ بِلِحۡيَتِي وَلَا بِرَأۡسِيٓۖ إِنِّي خَشِيتُ أَن تَقُولَ فَرَّقۡتَ بَيۡنَ بَنِيٓ إِسۡرَـٰٓءِيلَ وَلَمۡ تَرۡقُبۡ قَوۡلِي')\n",
      "Row(verse_number=3472, ayah_id=3, surah=31, text='هُدٗى وَرَحۡمَةٗ لِّلۡمُحۡسِنِينَ')\n",
      "Row(verse_number=2690, ayah_id=17, surah=23, text='وَلَقَدۡ خَلَقۡنَا فَوۡقَكُمۡ سَبۡعَ طَرَآئِقَ وَمَا كُنَّا عَنِ ٱلۡخَلۡقِ غَٰفِلِينَ')\n",
      "Row(verse_number=2166, ayah_id=26, surah=18, text='قُلِ ٱللَّهُ أَعۡلَمُ بِمَا لَبِثُواْۖ لَهُۥ غَيۡبُ ٱلسَّمَٰوَٰتِ وَٱلۡأَرۡضِۖ أَبۡصِرۡ بِهِۦ وَأَسۡمِعۡۚ مَا لَهُم مِّن دُونِهِۦ مِن وَلِيّٖ وَلَا يُشۡرِكُ فِي حُكۡمِهِۦٓ أَحَدٗا')\n",
      "Row(verse_number=2621, ayah_id=26, surah=22, text='وَإِذۡ بَوَّأۡنَا لِإِبۡرَٰهِيمَ مَكَانَ ٱلۡبَيۡتِ أَن لَّا تُشۡرِكۡ بِي شَيۡـٔٗا وَطَهِّرۡ بَيۡتِيَ لِلطَّآئِفِينَ وَٱلۡقَآئِمِينَ وَٱلرُّكَّعِ ٱلسُّجُودِ')\n"
     ]
    }
   ],
   "source": [
    "keyspace_name = \"data_quran\"\n",
    "session.set_keyspace(keyspace_name)\n",
    "\n",
    "\n",
    "table_name = \"arabic\"\n",
    "\n",
    "\n",
    "rows = session.execute(f\"SELECT * FROM {table_name} LIMIT 100\")\n",
    "\n",
    "\n",
    "for row in rows:\n",
    "    print(row)  "
   ]
  },
  {
   "cell_type": "code",
   "execution_count": 33,
   "metadata": {},
   "outputs": [
    {
     "name": "stdout",
     "output_type": "stream",
     "text": [
      "Row(name='The Reality', surah=69, ayat=1, tafseer='The Reality the Resurrection in which is realised the truth of all that was rejected in the way of the raising from the graves the reckoning and the requital or it means the Resurrection which will manifest all of that.', verse='The Reality!')\n",
      "Row(name='The Reality', surah=69, ayat=2, tafseer='What is the Reality? ma’l-hāqqa an interrogative to emphasise its enormity; this is the subject as well as the predicate of the previous al-hāqqa ‘the Reality’.', verse='What is the Reality ?')\n",
      "Row(name='The Reality', surah=69, ayat=3, tafseer=' what will convey unto thee what the reality is!\"', verse='\"Ah')\n",
      "Row(name='The Reality', surah=69, ayat=4, tafseer='Thamūd and ‘Ād denied the Clatterer the Resurrection because its terrors cause the hearts to clatter.', verse='(The tribes of) Thamud and A’ad disbelieved in the judgment to come.')\n",
      "Row(name='The Reality', surah=69, ayat=5, tafseer=' they were destroyed by the lightning.\"', verse='\"As for Thamud')\n",
      "Row(name='The Reality', surah=69, ayat=6, tafseer=' they were destroyed by a fierce roaring wind', verse='\"And as for A’ad')\n",
      "Row(name='The Reality', surah=69, ayat=7, tafseer=' as they were hollow trunks of palm-trees.\"', verse='\"Which He imposed on them for seven long nights and eight long days so that thou mightest have seen men lying overthrown')\n",
      "Row(name='The Reality', surah=69, ayat=8, tafseer='So do you see any remnant of them? min bāqiyatin this is either the adjectival qualification of an implicit nafs ‘soul’ or the final suffixed tā’ is for hyperbole in other words understand it as fa-hal tarā lahum min bāqin ‘any one remaining?’ No!.', verse='Canst thou (O Muhammad) see any remnant of them ?')\n",
      "Row(name='The Reality', surah=69, ayat=9, tafseer=' and the communities that were destroyed', verse='\"And Pharaoh and those before him')\n",
      "Row(name='The Reality', surah=69, ayat=10, tafseer=' therefor did He grip them with a tightening grip.\"', verse='\"And they disobeyed the messenger of their Lord')\n",
      "Row(name='The Reality', surah=69, ayat=11, tafseer=' We carried you upon the ship\"', verse='\"Lo! when the waters rose')\n",
      "Row(name='The Reality', surah=69, ayat=12, tafseer=' and that remembering ears (that heard the story) might remember.\"', verse='\"That We might make it a memorial for you')\n",
      "Row(name='The Reality', surah=69, ayat=13, tafseer='Thus when the Trumpet is blown with a single blast to announce the passing of judgement upon all creatures — this being the second blast —', verse='And when the trumpet shall sound one blast')\n",
      "Row(name='The Reality', surah=69, ayat=14, tafseer='\"', verse='\"And the earth with the mountains shall be lifted up and crushed with one crash')\n",
      "Row(name='The Reality', surah=69, ayat=15, tafseer=' on that day will the Event befall.\"', verse='\"Then')\n",
      "Row(name='The Reality', surah=69, ayat=16, tafseer=' for that day it will be frail.\"', verse='\"And the heaven will split asunder')\n",
      "Row(name='The Reality', surah=69, ayat=17, tafseer=' and eight will uphold the Throne of thy Lord that day', verse='\"And the angels will be on the sides thereof')\n",
      "Row(name='The Reality', surah=69, ayat=18, tafseer='On that day you will be exposed before the Reckoning. No hidden thing of yours in the way of secrets will remain hidden read feminine person takhfā or masculine person yakhfā.', verse='On that day ye will be exposed; not a secret of you will be hidden.')\n",
      "Row(name='The Reality', surah=69, ayat=19, tafseer=' as for him who is given his record in his right hand', verse='\"Then')\n",
      "Row(name='The Reality', surah=69, ayat=20, tafseer='I was truly certain that I would encounter my account’.', verse='Surely I knew that I should have to meet my reckoning.')\n",
      "Row(name='The Reality', surah=69, ayat=21, tafseer='So he will enjoy a pleasant living', verse='Then he will be in blissful state')\n",
      "Row(name='The Reality', surah=69, ayat=22, tafseer='in a lofty Garden', verse='In a high garden')\n",
      "Row(name='The Reality', surah=69, ayat=23, tafseer='whose clusters whose fruits are in easy reach nearby reached easily by one who may be standing or sitting or reclining.', verse='Whereof the clusters are in easy reach.')\n",
      "Row(name='The Reality', surah=69, ayat=24, tafseer='And so it will be said to them ‘Eat and drink in enjoyment hanī’an is a circumstantial qualifier that is to say mutahanni’īna ‘while you are enjoying them’ for what you did in advance in former days’ in days that have passed during the life of the world.', verse='(And it will be said unto those therein): Eat and drink at ease for that which ye sent on before you in past days.')\n",
      "Row(name='The Reality', surah=69, ayat=25, tafseer=' he will say: Oh', verse='\"But as for him who is given his record in his left hand')\n",
      "Row(name='The Reality', surah=69, ayat=26, tafseer='and not known what my account were!', verse='And knew not what my reckoning!')\n",
      "Row(name='The Reality', surah=69, ayat=27, tafseer=' would that it had been death!\"', verse='\"Oh')\n",
      "Row(name='The Reality', surah=69, ayat=28, tafseer='\"', verse='\"My wealth hath not availed me')\n",
      "Row(name='The Reality', surah=69, ayat=29, tafseer='My authority my strength my argument has gone from me’ the final hā’ in kitābiyah ‘my book’ hisābiyah ‘my account’ and sultāniyah ‘my authority’ is for consonantal quiescence; and it is retained when reciting with a pause as well as without a pause in accordance with the authoritative version of the Qur’ānic text and the transmitted reports; some elide it when reciting without a pause.', verse='My power hath gone from me.')\n",
      "Row(name='The Reality', surah=69, ayat=30, tafseer='‘Seize him — addressing the keepers of Hell — then fetter him bind his hands to his necks in fetters', verse='(It will be said): Take him and fetter him')\n",
      "Row(name='The Reality', surah=69, ayat=31, tafseer='then admit him into Hell-fire into the scorching Fire', verse='And then expose him to hell-fire')\n",
      "Row(name='The Reality', surah=69, ayat=32, tafseer='then in a chain whose length is seventy cubits — each cubit being that of an angel’s forearm — insert him after admitting him into the Fire the fā’ of fa’slukūhu does not prevent the verb from being semantically connected to the preceding adverbial clause.', verse='And then insert him in a chain whereof the length is seventy cubits.')\n",
      "Row(name='The Reality', surah=69, ayat=33, tafseer='\"', verse='\"Lo! He used not to believe in Allah the Tremendous')\n",
      "Row(name='The Reality', surah=69, ayat=34, tafseer='and never urged the feeding of the needy;', verse='And urged not on the feeding of the wretched.')\n",
      "Row(name='The Reality', surah=69, ayat=35, tafseer='\"', verse='\"Therefor hath he no lover here this day')\n",
      "Row(name='The Reality', surah=69, ayat=36, tafseer='nor any food except pus the vile excretions of the inhabitants of the Fire — or it ghislīn may denote certain trees therein —', verse='Nor any food save filth')\n",
      "Row(name='The Reality', surah=69, ayat=37, tafseer='which none shall eat but the sinners’ the disbelievers.', verse='Which none but sinners eat.')\n",
      "Row(name='The Reality', surah=69, ayat=38, tafseer='So indeed fa-lā lā is extra I swear by all that you see of creatures', verse='But nay! I swear by all that ye see')\n",
      "Row(name='The Reality', surah=69, ayat=39, tafseer='and all that you do not see of them in other words I swear by all creatures', verse='And all that ye see not')\n",
      "Row(name='The Reality', surah=69, ayat=40, tafseer='it that is to say the Qur’ān is indeed the speech of a noble messenger in other words he has spoken it as a message from God exalted be He.', verse='That it is indeed the speech of an illustrious messenger.')\n"
     ]
    }
   ],
   "source": [
    "keyspace_name = \"data_quran\"\n",
    "session.set_keyspace(keyspace_name)\n",
    "\n",
    "\n",
    "table_name = \"Tafseer\"\n",
    "\n",
    "\n",
    "rows = session.execute(f\"SELECT * FROM {table_name} LIMIT 40\")\n",
    "\n",
    "\n",
    "for row in rows:\n",
    "    print(row) \n",
    "    "
   ]
  },
  {
   "cell_type": "markdown",
   "metadata": {},
   "source": [
    "Question"
   ]
  },
  {
   "cell_type": "code",
   "execution_count": 17,
   "metadata": {},
   "outputs": [
    {
     "name": "stdout",
     "output_type": "stream",
     "text": [
      "The phrase 'إِنَّ' occurs 1362 times in al-quran.\n"
     ]
    }
   ],
   "source": [
    "query = \"SELECT ayah_id, text FROM arabic\"\n",
    "try:\n",
    "    rows = session.execute(query)\n",
    "except Exception as e:\n",
    "    print(\"Error executing query:\", e)\n",
    "    rows = []\n",
    "\n",
    "\n",
    "search_phrase =\"إِنَّ\"\n",
    "\n",
    "occurrence_count = 0\n",
    "for row in rows:\n",
    "    if search_phrase in row.text:\n",
    "        occurrence_count += 1\n",
    "\n",
    "\n",
    "print(f\"The phrase '{search_phrase}' occurs {occurrence_count} times in al-quran.\")"
   ]
  },
  {
   "cell_type": "code",
   "execution_count": 29,
   "metadata": {},
   "outputs": [
    {
     "name": "stdout",
     "output_type": "stream",
     "text": [
      "The phrase 'هُم' occurs 1899 times in al-quran.\n"
     ]
    }
   ],
   "source": [
    "query = \"SELECT ayah_id, text FROM arabic\"\n",
    "try:\n",
    "    rows = session.execute(query)\n",
    "except Exception as e:\n",
    "    print(\"Error executing query:\", e)\n",
    "    rows = []\n",
    "\n",
    "\n",
    "search_phrase =\"هُم\"\n",
    "\n",
    "occurrence_count = 0\n",
    "for row in rows:\n",
    "    if search_phrase in row.text:\n",
    "        occurrence_count += 1\n",
    "\n",
    "\n",
    "print(f\"The phrase '{search_phrase}' occurs {occurrence_count} times in al-quran.\")"
   ]
  },
  {
   "cell_type": "code",
   "execution_count": 34,
   "metadata": {},
   "outputs": [
    {
     "name": "stdout",
     "output_type": "stream",
     "text": [
      "The word 'say' appears 461 times.\n"
     ]
    }
   ],
   "source": [
    "query = \"SELECT surah,ayat, tafseer From Tafseer\"\n",
    "try:\n",
    "    rows = session.execute(query)\n",
    "except Exception as e:\n",
    "    print(\"Error executing query:\", e)\n",
    "    rows = []\n",
    "    \n",
    "search_word = \"say\"\n",
    "\n",
    "occurrence_count = 0\n",
    "for row in rows:\n",
    "    if search_word in row.tafseer:\n",
    "        occurrence_count += 1\n",
    "\n",
    "\n",
    "print(f\"The word '{search_word}' appears {occurrence_count} times.\")"
   ]
  },
  {
   "cell_type": "code",
   "execution_count": 40,
   "metadata": {},
   "outputs": [
    {
     "name": "stdout",
     "output_type": "stream",
     "text": [
      "The phrase 'لَا' occurs 1364 times in al-quran.\n"
     ]
    }
   ],
   "source": [
    "query = \"SELECT ayah_id, text FROM arabic\"\n",
    "try:\n",
    "    rows = session.execute(query)\n",
    "except Exception as e:\n",
    "    print(\"Error executing query:\", e)\n",
    "    rows = []\n",
    "\n",
    "\n",
    "search_phrase =\"لَا\"\n",
    "\n",
    "occurrence_count = 0\n",
    "for row in rows:\n",
    "    if search_phrase in row.text:\n",
    "        occurrence_count += 1\n",
    "\n",
    "\n",
    "print(f\"The phrase '{search_phrase}' occurs {occurrence_count} times in al-quran.\")"
   ]
  },
  {
   "cell_type": "code",
   "execution_count": 39,
   "metadata": {},
   "outputs": [
    {
     "name": "stdout",
     "output_type": "stream",
     "text": [
      "The phrase 'كُلِّ' occurs 185 times in al-quran.\n"
     ]
    }
   ],
   "source": [
    "query = \"SELECT ayah_id, text FROM arabic\"\n",
    "try:\n",
    "    rows = session.execute(query)\n",
    "except Exception as e:\n",
    "    print(\"Error executing query:\", e)\n",
    "    rows = []\n",
    "\n",
    "\n",
    "search_phrase =\"كُلِّ\"\n",
    "\n",
    "occurrence_count = 0\n",
    "for row in rows:\n",
    "    if search_phrase in row.text:\n",
    "        occurrence_count += 1\n",
    "\n",
    "\n",
    "print(f\"The phrase '{search_phrase}' occurs {occurrence_count} times in al-quran.\")"
   ]
  }
 ],
 "metadata": {
  "kernelspec": {
   "display_name": "base",
   "language": "python",
   "name": "python3"
  },
  "language_info": {
   "codemirror_mode": {
    "name": "ipython",
    "version": 3
   },
   "file_extension": ".py",
   "mimetype": "text/x-python",
   "name": "python",
   "nbconvert_exporter": "python",
   "pygments_lexer": "ipython3",
   "version": "3.11.5"
  }
 },
 "nbformat": 4,
 "nbformat_minor": 2
}
